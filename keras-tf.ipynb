{
 "cells": [
  {
   "cell_type": "code",
   "execution_count": null,
   "metadata": {},
   "outputs": [],
   "source": [
    "#!/usr/bin/env python3\n",
    "# -*- coding: utf-8 -*-\n",
    "\"\"\"\n",
    "Created on Sun May 24 13:05:53 2020\n",
    "\n",
    "@author: mahsa\n",
    "\"\"\"\n",
    "\n",
    "import tensorflow as tf\n",
    "def trainDatagen():\n",
    "    for npy in train_list:\n",
    "        x = tf.convert_to_tensor(np.load(npy), dtype=tf.float32)\n",
    "        if npy in gbmlist:\n",
    "             y = to_categorical(0, num_classes=2)\n",
    "        else:\n",
    "             y = to_categorical(1, num_classes=2)\n",
    "        yield x, y\n",
    "\n",
    "def tfDatasetGen(datagen, output_types, is_training, batch_size):\n",
    "    dataset = tf.data.Dataset.from_generator(generator=datagen, output_types=output_types)\n",
    "    if is_training:\n",
    "        dataset.shuffle(buffer_size=100)\n",
    "    dataset.repeat()\n",
    "    dataset.batch(batch_size=batch_size)\n",
    "    dataset.prefetch(buffer_size=tf.data.experimental.AUTOTUNE)\n",
    "    return dataset\n",
    "\n",
    "train_set = tfDatasetGen(\n",
    "    datagen = trainDatagen, \n",
    "    output_types = (tf.float32, tf.float32), \n",
    "    is_training = True, \n",
    "    batch_size = 16)\n",
    "\n",
    "def top_k(inputs, k):\n",
    "    return tf.nn.top_k(inputs, k=k, sorted=True).values\n",
    "\n",
    "def least_k(inputs, k):\n",
    "    return -tf.nn.top_k(-inputs, k=k, sorted=True).values\n",
    "\n",
    "def minmax_k(inputs, k):\n",
    "    return tf.concat([top_k(inputs, k), least_k(inputs, k)], axis = -1)\n",
    "\n",
    "inputs = keras.Input(shape=(4000,2048))\n",
    "y = layers.Conv1D(1, 4000, use_bias=False, padding=\"same\", data_format='channels_last')(inputs)\n",
    "y = layers.Flatten()(y)\n",
    "y = layers.Lambda(minmax_k, arguments={'k': 5})(y)\n",
    "y = layers.Dense(units=200, activation=tf.nn.relu)(y)\n",
    "y = layers.Dropout(rate=0.5)(y)\n",
    "y = layers.Dense(units=100, activation=tf.nn.relu)(y)\n",
    "y = layers.Dense(units=2, activation=tf.nn.softmax)(y)\n",
    "model = keras.Model(inputs=inputs, outputs=y)"
   ]
  },
  {
   "cell_type": "code",
   "execution_count": null,
   "metadata": {},
   "outputs": [],
   "source": []
  }
 ],
 "metadata": {
  "kernelspec": {
   "display_name": "Python 3",
   "language": "python",
   "name": "python3"
  },
  "language_info": {
   "codemirror_mode": {
    "name": "ipython",
    "version": 3
   },
   "file_extension": ".py",
   "mimetype": "text/x-python",
   "name": "python",
   "nbconvert_exporter": "python",
   "pygments_lexer": "ipython3",
   "version": "3.7.6"
  }
 },
 "nbformat": 4,
 "nbformat_minor": 4
}
